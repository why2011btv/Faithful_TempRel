{
 "cells": [
  {
   "cell_type": "code",
   "execution_count": 2,
   "metadata": {},
   "outputs": [
    {
     "name": "stdout",
     "output_type": "stream",
     "text": [
      "Hi 1\n",
      "Hi 2\n",
      "Bye\n",
      "2 1\n",
      "Sayonara\n"
     ]
    }
   ],
   "source": [
    "import time\n",
    "import multiprocessing as mp\n",
    "\n",
    "def foo(x = 1):\n",
    "    cnt = 1\n",
    "    while True:\n",
    "        time.sleep(1)\n",
    "        print(x, cnt)\n",
    "        cnt += 1\n",
    "\n",
    "def timeout(func, args = (), kwds = {}, timeout = 1, default = None):\n",
    "    pool = mp.Pool(processes = 1)\n",
    "    result = pool.apply_async(func, args = args, kwds = kwds)\n",
    "    try:\n",
    "        val = result.get(timeout = timeout)\n",
    "    except mp.TimeoutError:\n",
    "        pool.terminate()\n",
    "        return default\n",
    "    else:\n",
    "        pool.close()\n",
    "        pool.join()\n",
    "        return val\n",
    "\n",
    "\n",
    "#if __name__ == '__main__':\n",
    "print(timeout(foo, kwds = {'x': 'Hi'}, timeout = 3, default = 'Bye'))\n",
    "print(timeout(foo, args = (2,), timeout = 2, default = 'Sayonara'))"
   ]
  },
  {
   "cell_type": "code",
   "execution_count": null,
   "metadata": {},
   "outputs": [],
   "source": []
  }
 ],
 "metadata": {
  "kernelspec": {
   "display_name": "EMNLP_env",
   "language": "python",
   "name": "emnlp_env"
  },
  "language_info": {
   "codemirror_mode": {
    "name": "ipython",
    "version": 3
   },
   "file_extension": ".py",
   "mimetype": "text/x-python",
   "name": "python",
   "nbconvert_exporter": "python",
   "pygments_lexer": "ipython3",
   "version": "3.7.6"
  }
 },
 "nbformat": 4,
 "nbformat_minor": 4
}
